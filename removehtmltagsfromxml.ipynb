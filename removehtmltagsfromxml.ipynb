{
  "nbformat": 4,
  "nbformat_minor": 0,
  "metadata": {
    "colab": {
      "provenance": [],
      "authorship_tag": "ABX9TyNhuVEndW8lrbstqx1N0iLR",
      "include_colab_link": true
    },
    "kernelspec": {
      "name": "python3",
      "display_name": "Python 3"
    },
    "language_info": {
      "name": "python"
    }
  },
  "cells": [
    {
      "cell_type": "markdown",
      "metadata": {
        "id": "view-in-github",
        "colab_type": "text"
      },
      "source": [
        "<a href=\"https://colab.research.google.com/github/NitheshKumarK/RemoveHTMLTagsFromXML/blob/main/removehtmltagsfromxml.ipynb\" target=\"_parent\"><img src=\"https://colab.research.google.com/assets/colab-badge.svg\" alt=\"Open In Colab\"/></a>"
      ]
    },
    {
      "cell_type": "code",
      "execution_count": 1,
      "metadata": {
        "colab": {
          "base_uri": "https://localhost:8080/"
        },
        "id": "zKEE1CFgBMrt",
        "outputId": "d9bbd615-04f4-499b-93d6-c8940d74df36"
      },
      "outputs": [
        {
          "output_type": "stream",
          "name": "stdout",
          "text": [
            "<root>\n",
            "  <element><b>bold</b> text.<a href=\"https://example.com\">Link</a></element>\n",
            "</root>\n",
            "\n"
          ]
        }
      ],
      "source": [
        "from lxml import etree\n",
        "\n",
        "def remove_html_tags_from_xml(xml_string):\n",
        "    parser = etree.XMLParser(remove_blank_text=True)\n",
        "    root = etree.fromstring(xml_string, parser)\n",
        "\n",
        "    tags_to_remove = ['p', 'div']  # Specify the tags to remove\n",
        "\n",
        "    for tag in tags_to_remove:\n",
        "        elements = root.xpath('.//' + tag)\n",
        "        for element in elements:\n",
        "            parent = element.getparent()\n",
        "            if parent is not None:\n",
        "                index = parent.index(element)\n",
        "                parent[index:index+1] = element.xpath('./*')  # Replace tag with its children\n",
        "\n",
        "    clean_xml = etree.tostring(root, encoding='unicode', pretty_print=True)\n",
        "    return clean_xml\n",
        "\n",
        "# Example usage:\n",
        "xml_data = \"\"\"\n",
        "<root>\n",
        "    <element>\n",
        "        <p>This is <b>bold</b> text.</p>\n",
        "        <div><a href=\"https://example.com\">Link</a></div>\n",
        "        <p>This is another paragraph.</p>\n",
        "    </element>\n",
        "</root>\n",
        "\"\"\"\n",
        "\n",
        "clean_xml = remove_html_tags_from_xml(xml_data)\n",
        "print(clean_xml)\n"
      ]
    },
    {
      "cell_type": "code",
      "source": [
        "from bs4 import BeautifulSoup\n",
        "\n",
        "def remove_html_tags(xml_content):\n",
        "    # Parse the XML content\n",
        "    soup = BeautifulSoup(xml_content, 'lxml')\n",
        "\n",
        "    # Remove HTML tags\n",
        "    for tag in soup.find_all(True):\n",
        "        if tag.name.startswith('html'):\n",
        "            tag.unwrap()\n",
        "        if tag.name.startswith('b'):\n",
        "            tag.unwrap()\n",
        "        if tag.name.startswith('i'):\n",
        "            tag.unwrap()\n",
        "        if tag.name.startswith('p'):\n",
        "            tag.unwrap()\n",
        "        if tag.name.startswith('div'):\n",
        "            tag.unwrap()\n",
        "        if tag.name.startswith('a'):\n",
        "            tag.unwrap()\n",
        "\n",
        "    return str(soup)\n",
        "\n",
        "# Example XML content\n",
        "xml_content = '''\n",
        "<root>\n",
        "<html>\n",
        "    <element1>This is some <b>bold</b> text.</element1>\n",
        "    <element2>Another <i>italic</i> text.</element2>\n",
        "    </html>\n",
        "    <element>\n",
        "        <p>This is <b>bold</b> text.</p>\n",
        "        <div><a href=\"https://example.com\">Link</a></div>\n",
        "        <p>This is another paragraph.</p>\n",
        "    </element>\n",
        "</root>\n",
        "<root>\n",
        "<html>\n",
        "    <element1>This is some <b>bold</b> text.</element1>\n",
        "    <element2>Another <i>italic</i> text.</element2>\n",
        "    </html>\n",
        "    <element>\n",
        "        <p>This is <b>bold</b> text.</p>\n",
        "        <div><a href=\"https://example.com\">Link</a></div>\n",
        "        <p>This is another paragraph.</p>\n",
        "    </element>\n",
        "</root>\n",
        "\n",
        "\n",
        "'''\n",
        "\n",
        "# Remove HTML tags\n",
        "clean_xml_content = remove_html_tags(xml_content)\n",
        "print(clean_xml_content)\n"
      ],
      "metadata": {
        "colab": {
          "base_uri": "https://localhost:8080/"
        },
        "id": "CMdugBcLB5X3",
        "outputId": "b39b3dbb-1507-4086-fac5-a46618993d83"
      },
      "execution_count": 15,
      "outputs": [
        {
          "output_type": "stream",
          "name": "stdout",
          "text": [
            "<root>\n",
            "<element1>This is some bold text.</element1>\n",
            "<element2>Another italic text.</element2>\n",
            "<element>\n",
            "This is bold text.\n",
            "Link\n",
            "This is another paragraph.\n",
            "</element>\n",
            "</root>\n",
            "<root>\n",
            "<element1>This is some bold text.</element1>\n",
            "<element2>Another italic text.</element2>\n",
            "<element>\n",
            "This is bold text.\n",
            "Link\n",
            "This is another paragraph.\n",
            "</element>\n",
            "</root>\n",
            "\n"
          ]
        }
      ]
    }
  ]
}